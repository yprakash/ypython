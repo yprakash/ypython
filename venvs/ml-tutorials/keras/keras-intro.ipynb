{
 "cells": [
  {
   "cell_type": "code",
   "execution_count": null,
   "id": "441561b5",
   "metadata": {},
   "outputs": [],
   "source": [
    "import gc\n",
    "import os\n",
    "import psutil\n",
    "import sys\n",
    "\n",
    "import numpy as np\n",
    "from random import randint\n",
    "from sklearn.utils import shuffle\n",
    "from sklearn.preprocessing import MinMaxScaler\n",
    "\n",
    "import tensorflow as tf\n",
    "from tensorflow import keras\n",
    "from tensorflow.keras.models import Sequential\n",
    "from tensorflow.keras.layers import Dense, Activation\n",
    "from tensorflow.keras.optimizers import Adam\n",
    "from tensorflow.keras.metrics import categorical_crossentropy"
   ]
  },
  {
   "cell_type": "code",
   "execution_count": null,
   "id": "5dbc56c2",
   "metadata": {},
   "outputs": [],
   "source": [
    "# Define all constants\n",
    "_bytes_in_mb = 1048576"
   ]
  },
  {
   "cell_type": "code",
   "execution_count": null,
   "id": "38c8df61",
   "metadata": {},
   "outputs": [],
   "source": [
    "def get_process_stats(pid=0, seconds=1, cores=False):\n",
    "    # This function is used to get current running process's info like cpu/memory\n",
    "    # It should only be called periodically at the process/node level, not pipeline specific\n",
    "\n",
    "    if pid <= 0:\n",
    "        pid = os.getpid()\n",
    "    process = psutil.Process(pid)\n",
    "    info = 'Current running process (pid %s) details: CPU: %.2f' % (pid, process.cpu_percent(seconds))\n",
    "    if cores:\n",
    "        info += '\\nNo of physical cores in system: %d logical cores: %d' % (psutil.cpu_count(logical=False), psutil.cpu_count())\n",
    "\n",
    "    info += '\\nUsed Memory: %.2f MB %s' % (process.memory_info().rss / _bytes_in_mb, process.memory_info())\n",
    "    return info\n",
    "\n",
    "def get_object_size(input_obj):\n",
    "    # Measure the Real Size of Any Python Object\n",
    "    # https://towardsdatascience.com/the-strange-size-of-python-objects-in-memory-ce87bdfbb97f\n",
    "    memory_size = 0\n",
    "    ids = set()\n",
    "    objects = [input_obj]\n",
    "\n",
    "    while objects:\n",
    "        new = []\n",
    "        for obj in objects:\n",
    "            if id(obj) not in ids:\n",
    "                ids.add(id(obj))\n",
    "                memory_size += sys.getsizeof(obj)\n",
    "                new.append(obj)\n",
    "        objects = gc.get_referents(*new)\n",
    "    return memory_size"
   ]
  },
  {
   "cell_type": "code",
   "execution_count": null,
   "id": "2c16beb7",
   "metadata": {},
   "outputs": [],
   "source": [
    "physical_devices = tf.config.list_physical_devices('GPU')\n",
    "if physical_devices:\n",
    "    print('%d GPUs available. Enabling memory_growth', len(physical_devices))\n",
    "    tf.config.experimental.set_memory_growth(physical_devices[0], True)\n",
    "else:\n",
    "    print('NO GPUs available.')\n",
    "physical_devices = tf.config.list_physical_devices('CPU')\n",
    "print('%d CPUs available.' % len(physical_devices))\n",
    "print('get_process_stats: %s' % get_process_stats(cores=True))"
   ]
  },
  {
   "cell_type": "markdown",
   "id": "6a4cc095",
   "metadata": {},
   "source": [
    "### Example data:  \n",
    "    - An experimental drug was tested on individuals from ages 13 to 100 in a clinical trial.\n",
    "    - The trial had 2000 participants. half were under 65 years old, half were 65 years or older.\n",
    "    - Around 95% of patients 65 or older experienced side effects.\n",
    "    - Around 95% of patients under 65 experienced NO side effects."
   ]
  },
  {
   "cell_type": "code",
   "execution_count": null,
   "id": "20fd095c",
   "metadata": {},
   "outputs": [],
   "source": [
    "# This function generates a list of training samples and labels\n",
    "def generate_random_samples_labels(n=2000):\n",
    "    samples = []\n",
    "    labels  = []\n",
    "    for i in range(int(n*0.025)):\n",
    "        # 5% of younger individuals who did experience side effects\n",
    "        samples.append(randint(13, 64))\n",
    "        labels.append(1)\n",
    "        # 5% of older individuals who did NOT experience side effects\n",
    "        samples.append(randint(65, 100))\n",
    "        labels.append(0)\n",
    "\n",
    "    for i in range(int(n*0.475)):\n",
    "        # 95% of younger individuals who did NOT experience side effects\n",
    "        samples.append(randint(13, 64))\n",
    "        labels.append(0)\n",
    "        # 95% of older individuals who did experience side effects\n",
    "        samples.append(randint(65, 100))\n",
    "        labels.append(1)\n",
    "\n",
    "    return samples, labels"
   ]
  },
  {
   "cell_type": "code",
   "execution_count": null,
   "id": "a154772e",
   "metadata": {},
   "outputs": [],
   "source": [
    "train_samples, train_labels = generate_random_samples_labels()\n",
    "len(train_labels), len(train_samples)"
   ]
  },
  {
   "cell_type": "code",
   "execution_count": null,
   "id": "00d8b715",
   "metadata": {},
   "outputs": [],
   "source": [
    "list(zip(train_samples, train_labels))[:8]"
   ]
  },
  {
   "cell_type": "code",
   "execution_count": null,
   "id": "259db816",
   "metadata": {},
   "outputs": [],
   "source": [
    "# Transform this data to the format expected by model.fit\n",
    "train_labels = np.array(train_labels)\n",
    "train_samples = np.array(train_samples)\n",
    "# Shuffle two lists to get rid of any imposed order in data generation process\n",
    "train_labels, train_samples = shuffle(train_labels, train_samples)\n",
    "# sklearn.utils.shuffle make sure their shuffle orders are consistent (in the same order)"
   ]
  },
  {
   "cell_type": "code",
   "execution_count": null,
   "id": "a97e7f4b",
   "metadata": {},
   "outputs": [],
   "source": [
    "list(zip(train_samples, train_labels))[:8]"
   ]
  },
  {
   "cell_type": "code",
   "execution_count": null,
   "id": "4e99d5c1",
   "metadata": {},
   "outputs": [],
   "source": [
    "# Normalize the data to make training of neural networks quicker and more efficient\n",
    "scaler = MinMaxScaler(feature_range=(0,1))\n",
    "scaled_train_samples = scaler.fit_transform(train_samples.reshape(-1,1))\n",
    "# reshape(-1,1) -1=unknown : reshape 1D into 2D with size of each row to 1"
   ]
  },
  {
   "cell_type": "code",
   "execution_count": null,
   "id": "23d19253",
   "metadata": {},
   "outputs": [],
   "source": [
    "list(zip(scaled_train_samples, train_labels))[:5]"
   ]
  },
  {
   "cell_type": "markdown",
   "id": "998fe359",
   "metadata": {},
   "source": [
    "## Simple tf.keras Sequential model"
   ]
  },
  {
   "cell_type": "code",
   "execution_count": null,
   "id": "2ada9c2e",
   "metadata": {},
   "outputs": [],
   "source": [
    "# Sequential model is a linear stack of layers\n",
    "model = Sequential([\n",
    "    # second (or first hidden) layer needs input_shape\n",
    "    Dense(units=16, input_shape=(1,), activation='relu'),\n",
    "    Dense(units=32, activation='relu'),\n",
    "    Dense(units=2, activation='softmax')\n",
    "])\n",
    "model.summary()"
   ]
  },
  {
   "cell_type": "code",
   "execution_count": null,
   "id": "31012b77",
   "metadata": {},
   "outputs": [],
   "source": [
    "model.compile(optimizer=Adam(learning_rate=0.0001), loss='sparse_categorical_crossentropy', metrics=['accuracy'])"
   ]
  },
  {
   "cell_type": "code",
   "execution_count": null,
   "id": "a605c747",
   "metadata": {},
   "outputs": [],
   "source": [
    "# shuffle=True by default, split occurs before the training set has been shuffled. It just takes last 10% of training data\n",
    "model.fit(x=scaled_train_samples, y=train_labels, validation_split=0.1, batch_size=10, epochs=30, shuffle=True, verbose=2)"
   ]
  },
  {
   "cell_type": "markdown",
   "id": "bf869387",
   "metadata": {},
   "source": [
    "### Prediction"
   ]
  },
  {
   "cell_type": "code",
   "execution_count": null,
   "id": "4fecc412",
   "metadata": {},
   "outputs": [],
   "source": [
    "test_samples, test_labels = generate_random_samples_labels(200)\n",
    "test_samples, test_labels = np.array(test_samples), np.array(test_labels)\n",
    "test_labels, test_samples = shuffle(test_labels, test_samples)\n",
    "scaler = MinMaxScaler(feature_range=(0,1))\n",
    "scaled_test_samples = scaler.fit_transform(test_samples.reshape(-1,1))\n",
    "scaled_test_samples[0]"
   ]
  },
  {
   "cell_type": "code",
   "execution_count": null,
   "id": "bbe18f05",
   "metadata": {},
   "outputs": [],
   "source": [
    "# there is NO output during prediction even if we set verbose=2\n",
    "predictions = model.predict(x=scaled_test_samples, batch_size=10, verbose=0)\n",
    "predictions"
   ]
  },
  {
   "cell_type": "code",
   "execution_count": null,
   "id": "d9f67441",
   "metadata": {},
   "outputs": [],
   "source": [
    "rounded_preds = np.argmax(predictions, axis=-1)\n",
    "rounded_preds"
   ]
  },
  {
   "cell_type": "markdown",
   "id": "ac3c055a",
   "metadata": {},
   "source": [
    "### Confusion Matrix"
   ]
  },
  {
   "cell_type": "code",
   "execution_count": null,
   "id": "4f2eeeba",
   "metadata": {},
   "outputs": [],
   "source": [
    "%matplotlib inline\n",
    "import itertools\n",
    "from sklearn.metrics import confusion_matrix\n",
    "import matplotlib.pyplot as plt"
   ]
  },
  {
   "cell_type": "code",
   "execution_count": null,
   "id": "e95d18fe",
   "metadata": {},
   "outputs": [],
   "source": [
    "# https://deeplizard.com/learn/video/km7pxKy4UHU\n",
    "def plot_confusion_matrix(cm, classes,\n",
    "                        normalize=False,\n",
    "                        title='Confusion matrix',\n",
    "                        cmap=plt.cm.Blues):\n",
    "    \"\"\"\n",
    "    This function prints and plots the confusion matrix.\n",
    "    Normalization can be applied by setting `normalize=True`.\n",
    "    \"\"\"\n",
    "    plt.imshow(cm, interpolation='nearest', cmap=cmap)\n",
    "    plt.title(title)\n",
    "    plt.colorbar()\n",
    "    tick_marks = np.arange(len(classes))\n",
    "    plt.xticks(tick_marks, classes, rotation=45)\n",
    "    plt.yticks(tick_marks, classes)\n",
    "\n",
    "    if normalize:\n",
    "        cm = cm.astype('float') / cm.sum(axis=1)[:, np.newaxis]\n",
    "        print(\"Normalized confusion matrix\")\n",
    "    else:\n",
    "        print('Confusion matrix, without normalization')\n",
    "\n",
    "    print(cm)\n",
    "\n",
    "    thresh = cm.max() / 2.\n",
    "    for i, j in itertools.product(range(cm.shape[0]), range(cm.shape[1])):\n",
    "        plt.text(j, i, cm[i, j],\n",
    "            horizontalalignment=\"center\",\n",
    "            color=\"white\" if cm[i, j] > thresh else \"black\")\n",
    "\n",
    "    plt.tight_layout()\n",
    "    plt.ylabel('True label')\n",
    "    plt.xlabel('Predicted label')"
   ]
  },
  {
   "cell_type": "code",
   "execution_count": null,
   "id": "4b2ffa34",
   "metadata": {},
   "outputs": [],
   "source": [
    "cm = confusion_matrix(y_true=test_labels, y_pred=rounded_preds)"
   ]
  },
  {
   "cell_type": "code",
   "execution_count": null,
   "id": "1393fefd",
   "metadata": {},
   "outputs": [],
   "source": [
    "cm_plot_labels = ['NO_side_effects', 'had_side_effects']\n",
    "plot_confusion_matrix(cm=cm, classes=cm_plot_labels, title='Confusion Matrix')"
   ]
  },
  {
   "cell_type": "markdown",
   "id": "c901e7de",
   "metadata": {},
   "source": [
    "### Saving & load a model"
   ]
  },
  {
   "cell_type": "markdown",
   "id": "c8682b21",
   "metadata": {},
   "source": [
    "#### This model.save function saves:  \n",
    "- The architecture of the model, allowing to recreate the model\n",
    "- The weights of the model\n",
    "- The training configuration (loss, optimizer etc..)\n",
    "- The state of the optimizer, allowing to resume training exactly where you left off"
   ]
  },
  {
   "cell_type": "code",
   "execution_count": null,
   "id": "35fc3742",
   "metadata": {},
   "outputs": [],
   "source": [
    "import os.path\n",
    "file_path = '../models/medical_trial_model.h5'\n",
    "if not os.path.isfile(file_path):\n",
    "    model.save(file_path)"
   ]
  },
  {
   "cell_type": "code",
   "execution_count": null,
   "id": "2d47dabd",
   "metadata": {},
   "outputs": [],
   "source": [
    "from tensorflow.keras.models import load_model\n",
    "new_model = load_model(file_path)\n",
    "new_model.summary()"
   ]
  },
  {
   "cell_type": "code",
   "execution_count": null,
   "id": "51e92699",
   "metadata": {},
   "outputs": [],
   "source": [
    "new_model.get_weights()"
   ]
  },
  {
   "cell_type": "code",
   "execution_count": null,
   "id": "17e30742",
   "metadata": {},
   "outputs": [],
   "source": [
    "new_model.optimizer"
   ]
  },
  {
   "cell_type": "markdown",
   "id": "c89e40e7",
   "metadata": {},
   "source": [
    "#### 2. model.to_json()  \n",
    "If you only need to save the architecture of a model, and not its weights or training configuration  \n",
    "you can use the following function to save the architecture only"
   ]
  },
  {
   "cell_type": "code",
   "execution_count": null,
   "id": "75420ee7",
   "metadata": {},
   "outputs": [],
   "source": [
    "model_json = model.to_json()\n",
    "model_json"
   ]
  }
 ],
 "metadata": {
  "kernelspec": {
   "display_name": "Python 3",
   "language": "python",
   "name": "python3"
  },
  "language_info": {
   "codemirror_mode": {
    "name": "ipython",
    "version": 3
   },
   "file_extension": ".py",
   "mimetype": "text/x-python",
   "name": "python",
   "nbconvert_exporter": "python",
   "pygments_lexer": "ipython3",
   "version": "3.6.15"
  }
 },
 "nbformat": 4,
 "nbformat_minor": 5
}
